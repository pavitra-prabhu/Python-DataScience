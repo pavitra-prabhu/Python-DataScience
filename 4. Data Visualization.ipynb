{
 "cells": [
  {
   "cell_type": "markdown",
   "metadata": {},
   "source": [
    "> #### Data Visualization\n",
    "    \n",
    "    Data Visualization is one of the most important stages in a data science project. \n",
    "    It involves producing images that communicate relationships among the represented data. This communication is achieved through the use of a systematic mapping between graphic marks and data values in the creation of the visualization. Although the key objective in data visualization is to accurately convey the data, aesthetics play quite a significant role too. "
   ]
  },
  {
   "cell_type": "code",
   "execution_count": 2,
   "metadata": {},
   "outputs": [],
   "source": [
    "# Importing required libraries\n",
    "import pandas as pd\n",
    "import numpy as np\n",
    "import datetime\n",
    "import matplotlib.pyplot as plt\n",
    "#import plotly.graph_objs as go\n",
    "%matplotlib inline"
   ]
  },
  {
   "cell_type": "markdown",
   "metadata": {},
   "source": [
    "##### Visualizing Amounts \n",
    "\n",
    "    (1) Bar Plot\n",
    "        \n",
    "        \n",
    "    (2) Stacked Bar Plot\n",
    "    (3) Grouped Bar Plot\n",
    "    (4) Dot Plot\n",
    "    (5) Heatmap"
   ]
  },
  {
   "cell_type": "code",
   "execution_count": null,
   "metadata": {},
   "outputs": [],
   "source": []
  }
 ],
 "metadata": {
  "kernelspec": {
   "display_name": "Python 3",
   "language": "python",
   "name": "python3"
  },
  "language_info": {
   "codemirror_mode": {
    "name": "ipython",
    "version": 3
   },
   "file_extension": ".py",
   "mimetype": "text/x-python",
   "name": "python",
   "nbconvert_exporter": "python",
   "pygments_lexer": "ipython3",
   "version": "3.7.6"
  }
 },
 "nbformat": 4,
 "nbformat_minor": 2
}
