{
 "cells": [
  {
   "cell_type": "markdown",
   "metadata": {},
   "source": [
    "### <center>  PANDAS TUTORIAL </center>\n",
    "\n",
    "    This tutorial covers the following aspects of Pandas\n",
    "\n",
    "    1. Loading data using read_csv\n",
    "    2. Plotting with matplotlib and seaborn\n",
    "    3. Concatenating & Merging\n",
    "    4. Handling Missing Data\n",
    "    5. Tidying Data\n",
    "    6. Grouping & Pivoting Data\n",
    "    7. Vectorized Computations\n",
    "    8. Method Chaining\n",
    "    9. Manipulating Datetime columns\n",
    "    10. \n",
    "    11. \n",
    "    \n",
    "    Modeling"
   ]
  },
  {
   "cell_type": "code",
   "execution_count": 1,
   "metadata": {},
   "outputs": [],
   "source": [
    "# Importing libraries\n",
    "import os\n",
    "import numpy as np\n",
    "import pandas as pd\n",
    "from pandas_datareader import data as wb\n",
    "import matplotlib.pyplot as plt\n",
    "\n",
    "%matplotlib inline"
   ]
  },
  {
   "cell_type": "code",
   "execution_count": 2,
   "metadata": {},
   "outputs": [
    {
     "name": "stdout",
     "output_type": "stream",
     "text": [
      "Alternative Fuel Stations.csv\r\n",
      "Alternative Fuel Vehicles.csv\r\n",
      "BorderCrossingEntryData.csv\r\n",
      "Credit_Ratings_Fitch.csv\r\n",
      "CrudeOil_Annual_Cushing.csv\r\n",
      "CrudeOil_Daily_Cushing_OK_WTI_Spot_Price_FOB.csv\r\n",
      "CrudeOil_Daily_Europe_Brent_Spot_Price_FOB.csv\r\n",
      "CrudeOil_Monthly_Cushing_OK_WTI_Spot_Price_FOB.csv\r\n",
      "CrudeOil_Monthly_Dubai Crude_USD.csv\r\n",
      "CrudeOil_Monthly_Europe_Brent_Spot_Price_FOB.csv\r\n",
      "Fitch-ratings-history.csv\r\n",
      "FossilFuelEnergyConsumption.csv\r\n",
      "LightDutyVehicles.csv\r\n",
      "PeriodicTable.csv\r\n",
      "TempVehicles.csv\r\n",
      "US-States.csv\r\n",
      "\u001b[31mUSDINRExchangeRate.csv\u001b[m\u001b[m*\r\n",
      "airline_delay.csv\r\n",
      "all-vehicles-model.csv\r\n",
      "bank-data.csv\r\n",
      "banklist.csv\r\n",
      "euro-exchange-rates.csv\r\n",
      "ntsb-aviation-accident-dataset.csv\r\n",
      "tao-all2.dat.gz\r\n",
      "vehicles.csv\r\n"
     ]
    }
   ],
   "source": [
    "# Changing the directory path\n",
    "os.chdir(\"/Users/pavitragajanana/development/2. Data Files/\")\n",
    "os.getcwd()\n",
    "%ls"
   ]
  },
  {
   "cell_type": "markdown",
   "metadata": {},
   "source": [
    " > ### Loading data using read_csv"
   ]
  },
  {
   "cell_type": "code",
   "execution_count": 3,
   "metadata": {},
   "outputs": [
    {
     "data": {
      "text/plain": [
       "year                     int64\n",
       " month                   int64\n",
       "carrier                 object\n",
       "carrier_name            object\n",
       "airport                 object\n",
       "airport_name            object\n",
       "arr_flights            float64\n",
       "arr_del15              float64\n",
       "carrier_ct             float64\n",
       " weather_ct            float64\n",
       "nas_ct                 float64\n",
       "security_ct            float64\n",
       "late_aircraft_ct       float64\n",
       "arr_cancelled          float64\n",
       "arr_diverted           float64\n",
       " arr_delay             float64\n",
       " carrier_delay         float64\n",
       "weather_delay          float64\n",
       "nas_delay              float64\n",
       "security_delay         float64\n",
       "late_aircraft_delay    float64\n",
       "Unnamed: 21            float64\n",
       "dtype: object"
      ]
     },
     "execution_count": 3,
     "metadata": {},
     "output_type": "execute_result"
    }
   ],
   "source": [
    "# Loading vehicles data over the years using read_csv\n",
    "airline_delay = pd.read_csv(\"airline_delay.csv\",\n",
    "                        sep=',', # To be mentioned, when ',' is not the separator\n",
    "                        delimiter=None, \n",
    "                        header='infer', \n",
    "                        names=None, # List of names can be passed \n",
    "                        index_col=None, # Mentioned column will be set as row index\n",
    "                        usecols=None, # List of columns to be read\n",
    "                        squeeze=False, # True if your dataset has a single column and you want it to be read as a series\n",
    "                        prefix=None,  # When data doesnt have headers, pandas assigns numbers to col names and that can be prefixed\n",
    "                        mangle_dupe_cols=True, # If data has duplicate names in columns, such can be handled\n",
    "                       \n",
    "                        dtype=None, \n",
    "                        engine=None, # Used to specify the parsing engine\n",
    "                        converters=None, # Use converters to convert values in certain columns, using a dict of functions\n",
    "                        true_values=None, # Interprets the list of values as True\n",
    "                        false_values=None, # Interprets the list of values as False\n",
    "                        \n",
    "                        skipinitialspace=False, # Trims leading or trailing spaces in a field\n",
    "                        skiprows=None, # When integer, excludes skips n rows from begining; when list, skips the mentioned rows\n",
    "                        skipfooter=0, # Skips last n rows\n",
    "                        nrows=None, # Reads n rows\n",
    "                       \n",
    "                       # By default, ‘#N/A’, ‘#N/A N/A’, ‘#NA’, ‘-1.#IND’, ‘-1.#QNAN’, ‘-NaN’, ‘-nan’, ‘1.#IND’, ‘1.#QNAN’, ‘N/A’, ‘NA’, ‘NULL’, ‘NaN’, ‘n/a’, ‘nan’, ‘null’ are considered NaN\n",
    "                        na_values=[\"\"], # Specified strings additional to the ones mentioned above will be considered as NaN, provided keep_default_na is True\n",
    "                        keep_default_na=False, # Switch this to False if you want to omit the default set of strings that will be considered as NaN \n",
    "                        na_filter=True, # For a large dataset, set na_filter as False if you are sure that data does not have missing values to improve speed\n",
    "                       \n",
    "                        verbose=False, # Setting this to True displays additional information\n",
    "                        skip_blank_lines=True, # Setting this to False inserts NaN for all na values\n",
    "                        parse_dates=False, # [1,2,3] will be considered datetime individually; [[1,2,3]] combined will be considered datetime\n",
    "                        infer_datetime_format=False, # set infer_datetime_format to True and parse_dates to a value will result in increasing parsing speed of that column by 10 times\n",
    "                        keep_date_col=False, # To retain the combined and the original date columns when a set of columns are combined to form a new datetime column\n",
    "                        date_parser=None, # Allows to add a function to parse the datetime in a specified format\n",
    "                        dayfirst=False,  # Enables to indicate that day comes first in your column \n",
    "                        cache_dates=True, \n",
    "                        iterator=False, # Setting this to True will convert it into a file reader and df.get_chunk(n) can be used to retrieve values from the iterator\n",
    "                        chunksize=None,\n",
    "                        compression='infer', # will read compressed files\n",
    "                       \n",
    "                        thousands=None,\n",
    "                        decimal=b'.',\n",
    "                        lineterminator=None,\n",
    "                        \n",
    "                        quotechar='\"',\n",
    "                        quoting=0,\n",
    "                        doublequote=True,\n",
    "                        escapechar=None,\n",
    "                        comment=None,\n",
    "                        encoding=None,\n",
    "                        dialect=None,\n",
    "                        error_bad_lines=True,\n",
    "                        warn_bad_lines=True,\n",
    "                        delim_whitespace=False,\n",
    "                        \n",
    "                        low_memory=False,\n",
    "                        memory_map=False,\n",
    "                        float_precision=None,\n",
    "                       )\n",
    "\n",
    "airline_delay.dtypes"
   ]
  },
  {
   "cell_type": "code",
   "execution_count": null,
   "metadata": {},
   "outputs": [],
   "source": []
  },
  {
   "cell_type": "code",
   "execution_count": null,
   "metadata": {},
   "outputs": [],
   "source": []
  }
 ],
 "metadata": {
  "kernelspec": {
   "display_name": "Python 3",
   "language": "python",
   "name": "python3"
  },
  "language_info": {
   "codemirror_mode": {
    "name": "ipython",
    "version": 3
   },
   "file_extension": ".py",
   "mimetype": "text/x-python",
   "name": "python",
   "nbconvert_exporter": "python",
   "pygments_lexer": "ipython3",
   "version": "3.7.4"
  }
 },
 "nbformat": 4,
 "nbformat_minor": 2
}
