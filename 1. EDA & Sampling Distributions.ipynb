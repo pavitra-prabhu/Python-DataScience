{
 "cells": [
  {
   "cell_type": "markdown",
   "metadata": {},
   "source": [
    "> ### <center>  Exploratory Data Analysis & Sampling Distributions</center>"
   ]
  },
  {
   "cell_type": "code",
   "execution_count": 1,
   "metadata": {},
   "outputs": [
    {
     "data": {
      "text/plain": [
       "'/Users/pavitragajanana/My Files/Development/2. Data Files'"
      ]
     },
     "execution_count": 1,
     "metadata": {},
     "output_type": "execute_result"
    }
   ],
   "source": [
    "import os\n",
    "os.chdir(\"/Users/pavitragajanana/My Files/Development/2. Data Files/\")\n",
    "os.getcwd()\n",
    "# %ls"
   ]
  },
  {
   "cell_type": "code",
   "execution_count": 2,
   "metadata": {},
   "outputs": [],
   "source": [
    "# One time installation of packages\n",
    "#!pip install wquantiles \n",
    "#!pip install statsmodels"
   ]
  },
  {
   "cell_type": "code",
   "execution_count": 3,
   "metadata": {},
   "outputs": [],
   "source": [
    "# Load the libraries\n",
    "import pandas as pd\n",
    "import numpy as np\n",
    "import seaborn as sns\n",
    "import matplotlib.pyplot as plt\n",
    "from scipy import stats\n",
    "import wquantiles  # includes\n",
    "from statsmodels import robust\n",
    "from sklearn.utils import resample\n",
    "\n",
    "%matplotlib inline"
   ]
  },
  {
   "cell_type": "code",
   "execution_count": 4,
   "metadata": {},
   "outputs": [],
   "source": [
    "# Load data from a csv file to a pandas dataframe\n",
    "df_crudeoil = pd.read_csv(\"CrudeOil_Daily_Cushing_OK_WTI_Spot_Price_FOB.csv\",encoding=\"latin\",parse_dates=[0])"
   ]
  },
  {
   "cell_type": "code",
   "execution_count": 5,
   "metadata": {},
   "outputs": [
    {
     "data": {
      "text/plain": [
       "Day\n",
       "1986-12-31    15.047689\n",
       "1987-12-31    19.200512\n",
       "1988-12-30    15.965409\n",
       "1989-12-29    19.635486\n",
       "1990-12-31    24.526576\n",
       "Freq: BA-DEC, Name: WTISpotPrice, dtype: float64"
      ]
     },
     "execution_count": 5,
     "metadata": {},
     "output_type": "execute_result"
    }
   ],
   "source": [
    "# Calculate yearly prices\n",
    "df_annualcrudeoil = df_crudeoil.set_index('Day').WTISpotPrice.resample(\"BY\").mean()\n",
    "df_annualcrudeoil.head()"
   ]
  },
  {
   "cell_type": "markdown",
   "metadata": {},
   "source": [
    "> #### Estimates of Location\n",
    "\n",
    "    A fundamental task in many statistical analyses is to estimate a location parameter for the distribution; i.e., to find a typical or central value that best describes the data.\n",
    "    Most common location estimates used are mean, weighted mean, median, trimmed mean, weighted median, percentile and so on.\n",
    "    Please Note  : \n",
    "\n",
    "    (1) Mean refers to the arithmetic mean of the dataset of N values given by \n",
    "$$\\bar{x} = \\frac{\\sum_{i=1}^n x_i}{N}$$\n",
    "\n",
    "    Some examples : \n",
    "\n",
    "    (2) Weighted mean is similar to arithematic mean, except that the contribution by each data point differs and is given by\n",
    "$$ Weighted\\space Mean =\\bar{x}_w =  \\frac{\\sum_{i=1}^n w_i x_i}{\\sum_{i=1}^n w_i}$$\n",
    "\n",
    "    (3) Trimmed Mean is again similar to arithematic mean but is void of all the outliers.(i.e. It removes a small  designated percentage of the largest and smallest values before calculating the mean)\n",
    "    \n",
    "    (4) Median is a simple measure of central tendency. To find the median, we arrange the observations in order from smallest to largest value. If there is an odd number of observations, the median is the middle value. If there is an even number of observations, the median is the average of the two middle values. \n",
    "   \n",
    "       When n is odd,\n",
    "    \n",
    "$$ Median = x_\\frac{(n+1)}{2} $$\n",
    "\n",
    "       When n is even,\n",
    "       \n",
    "$$ Median = x_\\frac{n}{2} + x_{\\left(\\frac{n}{2}+1\\right)} $$\n",
    "\n",
    " \n",
    " \n",
    "    (5) Weighted Median\n",
    "    \n",
    "    Points to remember : \n",
    "    \n",
    "    (1) It is quite important to note that \"Mean > Trimmed Mean > Median\"\n",
    "\n",
    "\n",
    "\n"
   ]
  },
  {
   "cell_type": "code",
   "execution_count": 6,
   "metadata": {},
   "outputs": [
    {
     "name": "stdout",
     "output_type": "stream",
     "text": [
      "\n",
      "Location Estimates\n",
      "\n",
      "Mean = 44.22\n",
      "\n",
      "Weighted mean = 44.22\n",
      "\n",
      "Trimmed Mean =41.62\n",
      "\n",
      "Median = 30.73\n",
      "\n",
      "Weighted Median (equal weights) = 30.73\n"
     ]
    }
   ],
   "source": [
    "# Resamples data by the business year end\n",
    "df_annualcrudeoil = df_crudeoil.set_index('Day').WTISpotPrice.resample(\"BY\").mean()\n",
    "weights = np.ones((1,df_annualcrudeoil.count()),dtype=\"int\").T\n",
    "    \n",
    "# Mean uses numpy.mean\n",
    "print(f'\\nLocation Estimates\\n\\nMean = {np.round(np.mean(df_annualcrudeoil),2)}') \n",
    "  \n",
    "# Weighted mean uses numpy.average with optional argument of weights     \n",
    "print(f'\\nWeighted mean = {np.round(np.average(pd.DataFrame(df_annualcrudeoil),weights=weights),2)}')\n",
    "\n",
    "# Trimmed mean uses scipy.stats.trim_mean\n",
    "print(f'\\nTrimmed Mean ={np.round(stats.trim_mean(df_annualcrudeoil,0.1),2)}')\n",
    "\n",
    "# Median uses numpy.median\n",
    "print(f'\\nMedian = {np.round(np.median(df_annualcrudeoil),2)}') \n",
    "\n",
    "# Weighted median uses quantile(data, weights, 0.5)\n",
    "print(f'\\nWeighted Median (equal weights) = {np.round(wquantiles.median(df_annualcrudeoil,np.repeat(1,df_annualcrudeoil.count())),2)}')"
   ]
  },
  {
   "cell_type": "markdown",
   "metadata": {},
   "source": [
    "> #### Estimates of Variability :\n",
    "\n",
    "    (1) Deviation\n",
    "    \n",
    "    The difference between the observed values and the location estimate.\n",
    "    \n",
    "$$ Deviation = x_i  - \\bar{x}$$ \n",
    "\n",
    "    (2) Mean absolute deviation \n",
    "    \n",
    "    This measures the average variability/deviation of the values. Since averaging the deviation results in     zero, since the negative ones offset positive ones; mean deviation can be estimated on the absolute values.\n",
    "\n",
    "$$ Mean\\space absolute\\space deviation = \\frac{\\sum_{i=1}^n\\mid{x_i-\\bar{x}\\mid}}{n}$$\n",
    "\n",
    "    (3) Variance & Standard deviation\n",
    "    \n",
    "    Variance and Standard deviation are the most commonly used and the best-known estimates of variability.\n",
    "    Based on squared deviation, variance is the average of squared deviations and the Standard deviation is the square root of the variance.\n",
    "    \n",
    "$$Variance = s^2 =\\frac{\\sum\\left(x - \\bar{x}\\right)^2}{n-1}$$\n",
    "\n",
    "$$ Standard\\space deviation = \\sqrt{Variance}$$\n",
    "\n",
    "    (4) Median absolute deviation from the median (MAD)\n",
    "    \n",
    "    MAD is robust to outliers/extreme values and is the median of the absolute deviation of observed values from the median\n",
    "    \n",
    "$$ Median\\space absolute\\space deviation = Median\\left(\\mid{x_1-m\\mid},\\mid{x_2-m\\mid}....\\mid{x_n-m\\mid} \\right)$$\n",
    "\n",
    "    where m is the median\n",
    "   \n",
    "    (4)\n",
    "    \n",
    "    Points to remember : \n",
    "    1. degrees of freedom\n",
    "    2. Neither the variance, the standard deviation nor the mean absolute deviation are robust to outliers"
   ]
  },
  {
   "cell_type": "code",
   "execution_count": 7,
   "metadata": {},
   "outputs": [
    {
     "name": "stdout",
     "output_type": "stream",
     "text": [
      "\n",
      "Standard Deviation  = 29.32\n",
      "\n",
      "Interquartile range = 44.0\n",
      "\n",
      "MAD = 21.11\n",
      "\n",
      "Quantiles\n",
      "[5th,25th,50th,75th,95th]\n",
      "\n",
      "      WTISpotPrice\n",
      "0.05          15.0\n",
      "0.25          20.0\n",
      "0.50          31.0\n",
      "0.75          64.0\n",
      "0.95         101.0\n"
     ]
    }
   ],
   "source": [
    "# Using np.std() for standard deviation\n",
    "print(f'\\nStandard Deviation  = {np.round(df_crudeoil[\"WTISpotPrice\"].std(axis=0),2)}')\n",
    "      \n",
    "# Using np.quantile() for Interquartile range\n",
    "print(f'\\nInterquartile range = {np.round(df_crudeoil[\"WTISpotPrice\"].quantile(0.75))-np.round(df_crudeoil[\"WTISpotPrice\"].quantile(0.25))}')\n",
    "\n",
    "# Using robust.scale.mad for Median absolute deviation from median\n",
    "print(f'\\nMAD = {np.round(robust.scale.mad(df_crudeoil[\"WTISpotPrice\"]),2)}')\n",
    "      \n",
    "# Using np.quantile for array of quantile [5th, 25th, 50th, 75th and 95th]\n",
    "print(f'\\nQuantiles\\n[5th,25th,50th,75th,95th]\\n\\n{pd.DataFrame(np.round(df_crudeoil[\"WTISpotPrice\"].quantile([0.05, 0.25, 0.5, 0.75, 0.95])))}')"
   ]
  },
  {
   "cell_type": "markdown",
   "metadata": {},
   "source": [
    "> #### Statistics of Sampling Distribution \n",
    "\n",
    "    (1) Regression to Mean\n",
    "        \n",
    "    (2) Sample Statistic\n",
    "        Metrics calculated on a sample drawn from a population.\n",
    "        \n",
    "    (3) Sampling Distribution\n",
    "        The frequency distribution of a sample statistic over many samples or resamples.\n",
    "        \n",
    "    (4) Central Limit Theorem\n",
    "        The tendency of the sampling distribution to take normal shape as the sample size increases\n",
    "        \n",
    "    (5) Standard error of the sample statistic\n",
    "        The variability of a sample statistic over many samples.\n",
    "    \n",
    "$$Standard\\space Error = SE = \\frac{s}{\\sqrt{n}}$$\n",
    "\n",
    "    (6) Confidence Intervals"
   ]
  },
  {
   "cell_type": "code",
   "execution_count": 8,
   "metadata": {},
   "outputs": [
    {
     "data": {
      "text/plain": [
       "<seaborn.axisgrid.FacetGrid at 0x107a5d5d0>"
      ]
     },
     "execution_count": 8,
     "metadata": {},
     "output_type": "execute_result"
    },
    {
     "data": {
      "image/png": "[encoded data removed]",
      "text/plain": [
       "<Figure size 864x288 with 3 Axes>"
      ]
     },
     "metadata": {
      "needs_background": "light"
     },
     "output_type": "display_data"
    }
   ],
   "source": [
    "# Sampling Distribution and Central Limit Theorem\n",
    "# Lets consider the daily prices of WTI Crude Oil\n",
    "sample_data = pd.DataFrame({\n",
    "    'price': df_crudeoil.WTISpotPrice.sample(1000),\n",
    "    'type': 'Data ',})\n",
    "\n",
    "sample_mean_05 = pd.DataFrame({\n",
    "    'price': [df_crudeoil.WTISpotPrice.sample(5).mean() for _ in range(1000)],\n",
    "    'type': 'Mean of 5',})\n",
    "\n",
    "sample_mean_20 = pd.DataFrame({\n",
    "    'price': [df_crudeoil.WTISpotPrice.sample(30).mean() for _ in range(1000)],\n",
    "    'type': 'Mean of 20',})\n",
    "\n",
    "results = pd.concat([sample_data, sample_mean_05, sample_mean_20])\n",
    "\n",
    "# Building structured multi-plot grids using sns.FacetGrid\n",
    "g = sns.FacetGrid(results, col='type', col_wrap=3, height=4, aspect=1)\n",
    "g.map(plt.hist, 'price', range=[0, 90], bins=50)\n",
    "\n",
    "# Set parameters of the plot\n",
    "g.set_axis_labels('Price', 'Count')\n",
    "g.set_titles('{col_name}')\n"
   ]
  },
  {
   "cell_type": "code",
   "execution_count": 57,
   "metadata": {},
   "outputs": [
    {
     "name": "stdout",
     "output_type": "stream",
     "text": [
      "Q-Q Plot for the previously sampled crude oil prices\n"
     ]
    },
    {
     "data": {
      "image/png": "[encoded data removed]",
      "text/plain": [
       "<Figure size 360x360 with 1 Axes>"
      ]
     },
     "metadata": {
      "needs_background": "light"
     },
     "output_type": "display_data"
    }
   ],
   "source": [
    "# Q-Q Plot\n",
    "fig, ax = plt.subplots(figsize=(5, 5))\n",
    "stats.probplot(sample_mean_20['price'], plot=ax)\n",
    "print('Q-Q Plot for the previously sampled crude oil prices')"
   ]
  },
  {
   "cell_type": "markdown",
   "metadata": {},
   "source": [
    "> #### Bootstrapping\n",
    "\n"
   ]
  },
  {
   "cell_type": "code",
   "execution_count": 9,
   "metadata": {},
   "outputs": [
    {
     "name": "stdout",
     "output_type": "stream",
     "text": [
      "Bootstrap Statistics:\n",
      "\n",
      "Original: 30.63\n",
      "Bias: 0.0378\n",
      "Standard error: 0.40818\n"
     ]
    }
   ],
   "source": [
    "# Bootstrapping, Bias and Standard Error\n",
    "results = []\n",
    "for _ in range(2000):\n",
    "    # Implements resampling with replacement\n",
    "    sample = resample(df_crudeoil.WTISpotPrice)\n",
    "    results.append(sample.median())\n",
    "results = pd.Series(results)\n",
    "print('Bootstrap Statistics:\\n')\n",
    "print(f'Original: {df_crudeoil.median()[0]}')\n",
    "print(f'Bias: {np.round(results.mean() - df_crudeoil.median()[0],5)}')\n",
    "print(f'Standard error: {np.round(results.std(),5)}')"
   ]
  },
  {
   "cell_type": "markdown",
   "metadata": {},
   "source": [
    "> #### Sampling Distributions\n",
    "\n",
    "    (1) Normal Distribution\n",
    "    (2) Uniform Distribution\n",
    "    (3) Bernoulli Distribution\n",
    "    (4) Lognormal Distribution\n",
    "    (5) Burr Distribution\n",
    "    (6) Beta Distribution\n",
    "    (7) Poisson Distribution\n",
    "    (8) Gamma Distribution\n",
    "    (9) Student's t Distribution\n",
    "    (10) Chi-Squared Distribution\n",
    "    (11) F Distribution\n",
    "    (12) Exponential Distribution\n",
    "    (13) Weibull Distribution\n",
    "    (14) Binomial Distribution"
   ]
  },
  {
   "cell_type": "markdown",
   "metadata": {},
   "source": [
    "> ##### Normal Distribution\n",
    "\n",
    "$$f(x) = \\frac{1}{\\sigma\\sqrt{2\\pi}}e^\\frac{{-\\left(x-\\mu\\right)^2}}{2\\sigma^2}$$\n",
    "\n",
    "where $\\mu$ is loc keyword and $\\sigma$ is scale keyword"
   ]
  },
  {
   "cell_type": "code",
   "execution_count": 73,
   "metadata": {},
   "outputs": [
    {
     "ename": "AttributeError",
     "evalue": "'Rectangle' object has no property 'frameon'",
     "output_type": "error",
     "traceback": [
      "\u001b[0;31m---------------------------------------------------------------------------\u001b[0m",
      "\u001b[0;31mAttributeError\u001b[0m                            Traceback (most recent call last)",
      "\u001b[0;32m<ipython-input-73-ff007fd9a508>\u001b[0m in \u001b[0;36m<module>\u001b[0;34m\u001b[0m\n\u001b[1;32m      3\u001b[0m \u001b[0max1\u001b[0m \u001b[0;34m=\u001b[0m \u001b[0mplt\u001b[0m\u001b[0;34m.\u001b[0m\u001b[0msubplot\u001b[0m\u001b[0;34m(\u001b[0m\u001b[0;36m211\u001b[0m\u001b[0;34m,\u001b[0m \u001b[0mframeon\u001b[0m\u001b[0;34m=\u001b[0m\u001b[0;32mFalse\u001b[0m\u001b[0;34m)\u001b[0m\u001b[0;34m\u001b[0m\u001b[0;34m\u001b[0m\u001b[0m\n\u001b[1;32m      4\u001b[0m \u001b[0mplt\u001b[0m\u001b[0;34m.\u001b[0m\u001b[0mhist\u001b[0m\u001b[0;34m(\u001b[0m\u001b[0mnormal_sample\u001b[0m\u001b[0;34m)\u001b[0m\u001b[0;34m\u001b[0m\u001b[0;34m\u001b[0m\u001b[0m\n\u001b[0;32m----> 5\u001b[0;31m \u001b[0max2\u001b[0m \u001b[0;34m=\u001b[0m \u001b[0mplt\u001b[0m\u001b[0;34m.\u001b[0m\u001b[0mhist\u001b[0m\u001b[0;34m(\u001b[0m\u001b[0;36m212\u001b[0m\u001b[0;34m,\u001b[0m\u001b[0mframeon\u001b[0m\u001b[0;34m=\u001b[0m\u001b[0;32mFalse\u001b[0m\u001b[0;34m)\u001b[0m\u001b[0;34m\u001b[0m\u001b[0;34m\u001b[0m\u001b[0m\n\u001b[0m\u001b[1;32m      6\u001b[0m \u001b[0mplt\u001b[0m\u001b[0;34m.\u001b[0m\u001b[0mhist\u001b[0m\u001b[0;34m(\u001b[0m\u001b[0mnormal_sample\u001b[0m\u001b[0;34m)\u001b[0m\u001b[0;34m\u001b[0m\u001b[0;34m\u001b[0m\u001b[0m\n",
      "\u001b[0;32m~/opt/anaconda3/lib/python3.7/site-packages/matplotlib/pyplot.py\u001b[0m in \u001b[0;36mhist\u001b[0;34m(x, bins, range, density, weights, cumulative, bottom, histtype, align, orientation, rwidth, log, color, label, stacked, normed, data, **kwargs)\u001b[0m\n\u001b[1;32m   2640\u001b[0m         \u001b[0malign\u001b[0m\u001b[0;34m=\u001b[0m\u001b[0malign\u001b[0m\u001b[0;34m,\u001b[0m \u001b[0morientation\u001b[0m\u001b[0;34m=\u001b[0m\u001b[0morientation\u001b[0m\u001b[0;34m,\u001b[0m \u001b[0mrwidth\u001b[0m\u001b[0;34m=\u001b[0m\u001b[0mrwidth\u001b[0m\u001b[0;34m,\u001b[0m \u001b[0mlog\u001b[0m\u001b[0;34m=\u001b[0m\u001b[0mlog\u001b[0m\u001b[0;34m,\u001b[0m\u001b[0;34m\u001b[0m\u001b[0;34m\u001b[0m\u001b[0m\n\u001b[1;32m   2641\u001b[0m         \u001b[0mcolor\u001b[0m\u001b[0;34m=\u001b[0m\u001b[0mcolor\u001b[0m\u001b[0;34m,\u001b[0m \u001b[0mlabel\u001b[0m\u001b[0;34m=\u001b[0m\u001b[0mlabel\u001b[0m\u001b[0;34m,\u001b[0m \u001b[0mstacked\u001b[0m\u001b[0;34m=\u001b[0m\u001b[0mstacked\u001b[0m\u001b[0;34m,\u001b[0m \u001b[0mnormed\u001b[0m\u001b[0;34m=\u001b[0m\u001b[0mnormed\u001b[0m\u001b[0;34m,\u001b[0m\u001b[0;34m\u001b[0m\u001b[0;34m\u001b[0m\u001b[0m\n\u001b[0;32m-> 2642\u001b[0;31m         **({\"data\": data} if data is not None else {}), **kwargs)\n\u001b[0m\u001b[1;32m   2643\u001b[0m \u001b[0;34m\u001b[0m\u001b[0m\n\u001b[1;32m   2644\u001b[0m \u001b[0;34m\u001b[0m\u001b[0m\n",
      "\u001b[0;32m~/opt/anaconda3/lib/python3.7/site-packages/matplotlib/__init__.py\u001b[0m in \u001b[0;36minner\u001b[0;34m(ax, data, *args, **kwargs)\u001b[0m\n\u001b[1;32m   1599\u001b[0m     \u001b[0;32mdef\u001b[0m \u001b[0minner\u001b[0m\u001b[0;34m(\u001b[0m\u001b[0max\u001b[0m\u001b[0;34m,\u001b[0m \u001b[0;34m*\u001b[0m\u001b[0margs\u001b[0m\u001b[0;34m,\u001b[0m \u001b[0mdata\u001b[0m\u001b[0;34m=\u001b[0m\u001b[0;32mNone\u001b[0m\u001b[0;34m,\u001b[0m \u001b[0;34m**\u001b[0m\u001b[0mkwargs\u001b[0m\u001b[0;34m)\u001b[0m\u001b[0;34m:\u001b[0m\u001b[0;34m\u001b[0m\u001b[0;34m\u001b[0m\u001b[0m\n\u001b[1;32m   1600\u001b[0m         \u001b[0;32mif\u001b[0m \u001b[0mdata\u001b[0m \u001b[0;32mis\u001b[0m \u001b[0;32mNone\u001b[0m\u001b[0;34m:\u001b[0m\u001b[0;34m\u001b[0m\u001b[0;34m\u001b[0m\u001b[0m\n\u001b[0;32m-> 1601\u001b[0;31m             \u001b[0;32mreturn\u001b[0m \u001b[0mfunc\u001b[0m\u001b[0;34m(\u001b[0m\u001b[0max\u001b[0m\u001b[0;34m,\u001b[0m \u001b[0;34m*\u001b[0m\u001b[0mmap\u001b[0m\u001b[0;34m(\u001b[0m\u001b[0msanitize_sequence\u001b[0m\u001b[0;34m,\u001b[0m \u001b[0margs\u001b[0m\u001b[0;34m)\u001b[0m\u001b[0;34m,\u001b[0m \u001b[0;34m**\u001b[0m\u001b[0mkwargs\u001b[0m\u001b[0;34m)\u001b[0m\u001b[0;34m\u001b[0m\u001b[0;34m\u001b[0m\u001b[0m\n\u001b[0m\u001b[1;32m   1602\u001b[0m \u001b[0;34m\u001b[0m\u001b[0m\n\u001b[1;32m   1603\u001b[0m         \u001b[0mbound\u001b[0m \u001b[0;34m=\u001b[0m \u001b[0mnew_sig\u001b[0m\u001b[0;34m.\u001b[0m\u001b[0mbind\u001b[0m\u001b[0;34m(\u001b[0m\u001b[0max\u001b[0m\u001b[0;34m,\u001b[0m \u001b[0;34m*\u001b[0m\u001b[0margs\u001b[0m\u001b[0;34m,\u001b[0m \u001b[0;34m**\u001b[0m\u001b[0mkwargs\u001b[0m\u001b[0;34m)\u001b[0m\u001b[0;34m\u001b[0m\u001b[0;34m\u001b[0m\u001b[0m\n",
      "\u001b[0;32m~/opt/anaconda3/lib/python3.7/site-packages/matplotlib/axes/_axes.py\u001b[0m in \u001b[0;36mhist\u001b[0;34m(self, x, bins, range, density, weights, cumulative, bottom, histtype, align, orientation, rwidth, log, color, label, stacked, normed, **kwargs)\u001b[0m\n\u001b[1;32m   6955\u001b[0m             \u001b[0;32mif\u001b[0m \u001b[0mpatch\u001b[0m\u001b[0;34m:\u001b[0m\u001b[0;34m\u001b[0m\u001b[0;34m\u001b[0m\u001b[0m\n\u001b[1;32m   6956\u001b[0m                 \u001b[0mp\u001b[0m \u001b[0;34m=\u001b[0m \u001b[0mpatch\u001b[0m\u001b[0;34m[\u001b[0m\u001b[0;36m0\u001b[0m\u001b[0;34m]\u001b[0m\u001b[0;34m\u001b[0m\u001b[0;34m\u001b[0m\u001b[0m\n\u001b[0;32m-> 6957\u001b[0;31m                 \u001b[0mp\u001b[0m\u001b[0;34m.\u001b[0m\u001b[0mupdate\u001b[0m\u001b[0;34m(\u001b[0m\u001b[0mkwargs\u001b[0m\u001b[0;34m)\u001b[0m\u001b[0;34m\u001b[0m\u001b[0;34m\u001b[0m\u001b[0m\n\u001b[0m\u001b[1;32m   6958\u001b[0m                 \u001b[0;32mif\u001b[0m \u001b[0mlbl\u001b[0m \u001b[0;32mis\u001b[0m \u001b[0;32mnot\u001b[0m \u001b[0;32mNone\u001b[0m\u001b[0;34m:\u001b[0m\u001b[0;34m\u001b[0m\u001b[0;34m\u001b[0m\u001b[0m\n\u001b[1;32m   6959\u001b[0m                     \u001b[0mp\u001b[0m\u001b[0;34m.\u001b[0m\u001b[0mset_label\u001b[0m\u001b[0;34m(\u001b[0m\u001b[0mlbl\u001b[0m\u001b[0;34m)\u001b[0m\u001b[0;34m\u001b[0m\u001b[0;34m\u001b[0m\u001b[0m\n",
      "\u001b[0;32m~/opt/anaconda3/lib/python3.7/site-packages/matplotlib/artist.py\u001b[0m in \u001b[0;36mupdate\u001b[0;34m(self, props)\u001b[0m\n\u001b[1;32m    972\u001b[0m \u001b[0;34m\u001b[0m\u001b[0m\n\u001b[1;32m    973\u001b[0m         \u001b[0;32mwith\u001b[0m \u001b[0mcbook\u001b[0m\u001b[0;34m.\u001b[0m\u001b[0m_setattr_cm\u001b[0m\u001b[0;34m(\u001b[0m\u001b[0mself\u001b[0m\u001b[0;34m,\u001b[0m \u001b[0meventson\u001b[0m\u001b[0;34m=\u001b[0m\u001b[0;32mFalse\u001b[0m\u001b[0;34m)\u001b[0m\u001b[0;34m:\u001b[0m\u001b[0;34m\u001b[0m\u001b[0;34m\u001b[0m\u001b[0m\n\u001b[0;32m--> 974\u001b[0;31m             \u001b[0mret\u001b[0m \u001b[0;34m=\u001b[0m \u001b[0;34m[\u001b[0m\u001b[0m_update_property\u001b[0m\u001b[0;34m(\u001b[0m\u001b[0mself\u001b[0m\u001b[0;34m,\u001b[0m \u001b[0mk\u001b[0m\u001b[0;34m,\u001b[0m \u001b[0mv\u001b[0m\u001b[0;34m)\u001b[0m \u001b[0;32mfor\u001b[0m \u001b[0mk\u001b[0m\u001b[0;34m,\u001b[0m \u001b[0mv\u001b[0m \u001b[0;32min\u001b[0m \u001b[0mprops\u001b[0m\u001b[0;34m.\u001b[0m\u001b[0mitems\u001b[0m\u001b[0;34m(\u001b[0m\u001b[0;34m)\u001b[0m\u001b[0;34m]\u001b[0m\u001b[0;34m\u001b[0m\u001b[0;34m\u001b[0m\u001b[0m\n\u001b[0m\u001b[1;32m    975\u001b[0m \u001b[0;34m\u001b[0m\u001b[0m\n\u001b[1;32m    976\u001b[0m         \u001b[0;32mif\u001b[0m \u001b[0mlen\u001b[0m\u001b[0;34m(\u001b[0m\u001b[0mret\u001b[0m\u001b[0;34m)\u001b[0m\u001b[0;34m:\u001b[0m\u001b[0;34m\u001b[0m\u001b[0;34m\u001b[0m\u001b[0m\n",
      "\u001b[0;32m~/opt/anaconda3/lib/python3.7/site-packages/matplotlib/artist.py\u001b[0m in \u001b[0;36m<listcomp>\u001b[0;34m(.0)\u001b[0m\n\u001b[1;32m    972\u001b[0m \u001b[0;34m\u001b[0m\u001b[0m\n\u001b[1;32m    973\u001b[0m         \u001b[0;32mwith\u001b[0m \u001b[0mcbook\u001b[0m\u001b[0;34m.\u001b[0m\u001b[0m_setattr_cm\u001b[0m\u001b[0;34m(\u001b[0m\u001b[0mself\u001b[0m\u001b[0;34m,\u001b[0m \u001b[0meventson\u001b[0m\u001b[0;34m=\u001b[0m\u001b[0;32mFalse\u001b[0m\u001b[0;34m)\u001b[0m\u001b[0;34m:\u001b[0m\u001b[0;34m\u001b[0m\u001b[0;34m\u001b[0m\u001b[0m\n\u001b[0;32m--> 974\u001b[0;31m             \u001b[0mret\u001b[0m \u001b[0;34m=\u001b[0m \u001b[0;34m[\u001b[0m\u001b[0m_update_property\u001b[0m\u001b[0;34m(\u001b[0m\u001b[0mself\u001b[0m\u001b[0;34m,\u001b[0m \u001b[0mk\u001b[0m\u001b[0;34m,\u001b[0m \u001b[0mv\u001b[0m\u001b[0;34m)\u001b[0m \u001b[0;32mfor\u001b[0m \u001b[0mk\u001b[0m\u001b[0;34m,\u001b[0m \u001b[0mv\u001b[0m \u001b[0;32min\u001b[0m \u001b[0mprops\u001b[0m\u001b[0;34m.\u001b[0m\u001b[0mitems\u001b[0m\u001b[0;34m(\u001b[0m\u001b[0;34m)\u001b[0m\u001b[0;34m]\u001b[0m\u001b[0;34m\u001b[0m\u001b[0;34m\u001b[0m\u001b[0m\n\u001b[0m\u001b[1;32m    975\u001b[0m \u001b[0;34m\u001b[0m\u001b[0m\n\u001b[1;32m    976\u001b[0m         \u001b[0;32mif\u001b[0m \u001b[0mlen\u001b[0m\u001b[0;34m(\u001b[0m\u001b[0mret\u001b[0m\u001b[0;34m)\u001b[0m\u001b[0;34m:\u001b[0m\u001b[0;34m\u001b[0m\u001b[0;34m\u001b[0m\u001b[0m\n",
      "\u001b[0;32m~/opt/anaconda3/lib/python3.7/site-packages/matplotlib/artist.py\u001b[0m in \u001b[0;36m_update_property\u001b[0;34m(self, k, v)\u001b[0m\n\u001b[1;32m    968\u001b[0m                 \u001b[0;32mif\u001b[0m \u001b[0;32mnot\u001b[0m \u001b[0mcallable\u001b[0m\u001b[0;34m(\u001b[0m\u001b[0mfunc\u001b[0m\u001b[0;34m)\u001b[0m\u001b[0;34m:\u001b[0m\u001b[0;34m\u001b[0m\u001b[0;34m\u001b[0m\u001b[0m\n\u001b[1;32m    969\u001b[0m                     raise AttributeError('{!r} object has no property {!r}'\n\u001b[0;32m--> 970\u001b[0;31m                                          .format(type(self).__name__, k))\n\u001b[0m\u001b[1;32m    971\u001b[0m                 \u001b[0;32mreturn\u001b[0m \u001b[0mfunc\u001b[0m\u001b[0;34m(\u001b[0m\u001b[0mv\u001b[0m\u001b[0;34m)\u001b[0m\u001b[0;34m\u001b[0m\u001b[0;34m\u001b[0m\u001b[0m\n\u001b[1;32m    972\u001b[0m \u001b[0;34m\u001b[0m\u001b[0m\n",
      "\u001b[0;31mAttributeError\u001b[0m: 'Rectangle' object has no property 'frameon'"
     ]
    },
    {
     "data": {
      "image/png": "[encoded data removed]",
      "text/plain": [
       "<Figure size 432x288 with 1 Axes>"
      ]
     },
     "metadata": {
      "needs_background": "light"
     },
     "output_type": "display_data"
    }
   ],
   "source": [
    "# Generates a normal random sample\n",
    "normal_sample = stats.norm.rvs(size=1000)\n",
    "ax1 = plt.subplot(211, frameon=False)\n",
    "plt.hist(normal_sample)\n",
    "ax2 = plt.hist(212,frameon=False)\n",
    "plt.hist(normal_sample)"
   ]
  },
  {
   "cell_type": "code",
   "execution_count": 66,
   "metadata": {},
   "outputs": [
    {
     "data": {
      "text/plain": [
       "()"
      ]
     },
     "execution_count": 66,
     "metadata": {},
     "output_type": "execute_result"
    }
   ],
   "source": []
  },
  {
   "cell_type": "code",
   "execution_count": null,
   "metadata": {},
   "outputs": [],
   "source": []
  }
 ],
 "metadata": {
  "kernelspec": {
   "display_name": "Python 3",
   "language": "python",
   "name": "python3"
  },
  "language_info": {
   "codemirror_mode": {
    "name": "ipython",
    "version": 3
   },
   "file_extension": ".py",
   "mimetype": "text/x-python",
   "name": "python",
   "nbconvert_exporter": "python",
   "pygments_lexer": "ipython3",
   "version": "3.7.6"
  }
 },
 "nbformat": 4,
 "nbformat_minor": 2
}
