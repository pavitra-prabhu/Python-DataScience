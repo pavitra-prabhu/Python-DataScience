{
 "cells": [
  {
   "cell_type": "markdown",
   "metadata": {},
   "source": [
    "### <center> Regression Analysis</center>\n",
    "\n",
    "\n",
    "    (1) Regression Analysis\n",
    "    "
   ]
  },
  {
   "cell_type": "code",
   "execution_count": 1,
   "metadata": {},
   "outputs": [],
   "source": [
    "#!pip install pandas_datareader"
   ]
  },
  {
   "cell_type": "code",
   "execution_count": 1,
   "metadata": {},
   "outputs": [],
   "source": [
    "# Import required libraries\n",
    "\n",
    "import numpy as np\n",
    "import pandas as pd\n",
    "from pandas_datareader import data as wb\n",
    "\n",
    "import scipy\n",
    "import statsmodels.api as sm\n",
    "import matplotlib.pyplot as plt\n",
    "import seaborn as sns\n",
    "import sklearn\n",
    "\n",
    "%matplotlib inline\n",
    "\n",
    "# Uses Seaborn Aesthetics\n",
    "sns.set()"
   ]
  },
  {
   "cell_type": "markdown",
   "metadata": {},
   "source": [
    "> ### Regression Analysis\n",
    "\n",
    "    In statistical modeling, regression analysis is a set of statistical processes for estimating the \n",
    "    relationships between a dependent variable and one or more independent variables.\n",
    "    \n",
    "    What are the Regression Assumptions?\n",
    "    \n",
    "        - Linearity\n",
    "            \n",
    "            The assumption is that the true relationship between independent and dependent variables is linear. \n",
    "            Examined through a scatter plot,\n",
    "            \n",
    "            Solution : \n",
    "            When this assumption is not true, we can either run a non-linear regression or try to \n",
    "            transform data appropriately so that it follows linearity(e.g. log transformation,exponential)\n",
    "            \n",
    "        - No Endogeneity of Regressors (Endogeneity : Omitted Variable Bias/Measurement errors/Simultaneity)\n",
    "        \n",
    "        \n",
    "        \n",
    "        - Normality and Homoscedasticity\n",
    "            > Errors are normally distributed\n",
    "            > Homoscedasticity of errors \n",
    "        - No autocorrelation\n",
    "            Observations are independent of one another\n",
    "        - No multicollinearity\n",
    "    \n",
    "    How do we check regression assumptions? \n",
    "    \n",
    "        We examine the variability left over after we fit the regression line. We simply graph the residuals and \n",
    "        look for any unusual patterns.\n",
    "    \n",
    "        If a linear model makes sense, the residuals will\n",
    "\n",
    "        - have a constant variance\n",
    "        - be approximately normally distributed (with a mean of zero)\n",
    "        - be independent of one another.\n",
    "        \n",
    "        If the residuals fan out as the predicted values increase, then we have what is known as \n",
    "        heteroscedasticity.\n",
    "     \n",
    "     Common methods \n",
    "\n",
    "    - Generalized Least Squares\n",
    "    - Maximum Likelihood Estimation\n",
    "    - Bayesian Regression\n",
    "    - Kernel Regression\n",
    "    - Gaussian Process Regression\n",
    "    \n",
    "    "
   ]
  },
  {
   "cell_type": "markdown",
   "metadata": {},
   "source": [
    "> ##### Simple Linear Regression\n",
    "    \n",
    "    For a population, \n",
    "    \n",
    "$$y = \\beta_0 + \\beta_1 x_1 + \\epsilon$$\n",
    "\n",
    "$\\space\\space\\space\\space\\space\\space\\space\\space\\space where\\space \\epsilon \\space is \\space the\\space error\\space and \\space\\beta_0 \\space is\\space a\\space constant$\n",
    "    \n",
    "    For a sample, \n",
    "    \n",
    "$$\\hat{y} = b_0 + b_1 x_1 $$\n",
    "\n",
    "$\\space\\space\\space\\space\\space\\space\\space\\space\\space where\\space \\hat{y} \\space is\\space the\\space Estimated/Predicted\\space value\\space and\\space b_0 \\space is\\space a\\space constant$"
   ]
  },
  {
   "cell_type": "code",
   "execution_count": 2,
   "metadata": {},
   "outputs": [],
   "source": [
    "tickers = ['COP','^GSPC']\n",
    "my_df = pd.DataFrame()\n",
    "for i in tickers:\n",
    "    my_df[i] = wb.DataReader(i,data_source=\"yahoo\",start=\"2017-1-1\")['Adj Close']    "
   ]
  },
  {
   "cell_type": "code",
   "execution_count": 3,
   "metadata": {},
   "outputs": [
    {
     "name": "stdout",
     "output_type": "stream",
     "text": [
      "                  COP        ^GSPC    Return  Mkt_Return\n",
      "Date                                                    \n",
      "2017-01-03  47.556801  2257.830078       NaN         NaN\n",
      "2017-01-04  47.998451  2270.750000  0.009244    0.005706\n",
      "2017-01-05  47.857502  2269.000000 -0.002941   -0.000771\n",
      "2017-01-06  47.678967  2276.979980 -0.003738    0.003511\n",
      "2017-01-09  46.664116  2268.899902 -0.021515   -0.003555\n",
      "\n",
      "\n",
      "              COP        ^GSPC      Return  Mkt_Return\n",
      "count  781.000000   781.000000  780.000000  780.000000\n",
      "mean    56.892793  2723.345428    0.000252    0.000507\n",
      "std      9.375584   247.902710    0.017003    0.008069\n",
      "min     40.620945  2257.830078   -0.061890   -0.041843\n",
      "25%     47.775909  2510.030029   -0.009272   -0.002257\n",
      "50%     58.221516  2731.199951    0.000077    0.000706\n",
      "75%     64.938683  2888.679932    0.010699    0.004614\n",
      "max     77.816139  3352.090088    0.086648    0.048403\n"
     ]
    }
   ],
   "source": [
    "my_df = (my_df\n",
    " .assign(Return = lambda df_ :(np.log(df_['COP']/df_['COP'].shift(1))))\n",
    " .assign(Mkt_Return =  lambda df_ :(np.log(df_['^GSPC']/df_['^GSPC'].shift(1))))\n",
    ")\n",
    "print(my_df.head())\n",
    "print(\"\\n\")\n",
    "print(my_df.describe())"
   ]
  },
  {
   "cell_type": "code",
   "execution_count": 4,
   "metadata": {},
   "outputs": [
    {
     "data": {
      "text/plain": [
       "Text(0, 0.5, 'S&P')"
      ]
     },
     "execution_count": 4,
     "metadata": {},
     "output_type": "execute_result"
    },
    {
     "data": {
      "image/png": "[encoded data removed]",
      "text/plain": [
       "<Figure size 432x288 with 1 Axes>"
      ]
     },
     "metadata": {
      "needs_background": "light"
     },
     "output_type": "display_data"
    }
   ],
   "source": [
    "y = my_df['COP']\n",
    "x1 = my_df['^GSPC']\n",
    "plt.scatter(x1,y)\n",
    "plt.xlabel('ConocoPhilips',fontsize=18)\n",
    "plt.ylabel('S&P',fontsize=18)"
   ]
  },
  {
   "cell_type": "code",
   "execution_count": 5,
   "metadata": {
    "scrolled": false
   },
   "outputs": [
    {
     "name": "stderr",
     "output_type": "stream",
     "text": [
      "/Users/pavitragajanana/opt/anaconda3/lib/python3.7/site-packages/numpy/core/fromnumeric.py:2495: FutureWarning: Method .ptp is deprecated and will be removed in a future version. Use numpy.ptp instead.\n",
      "  return ptp(axis=axis, out=out, **kwargs)\n"
     ]
    },
    {
     "data": {
      "text/html": [
       "<table class=\"simpletable\">\n",
       "<caption>OLS Regression Results</caption>\n",
       "<tr>\n",
       "  <th>Dep. Variable:</th>           <td>COP</td>       <th>  R-squared:         </th> <td>   0.408</td>\n",
       "</tr>\n",
       "<tr>\n",
       "  <th>Model:</th>                   <td>OLS</td>       <th>  Adj. R-squared:    </th> <td>   0.408</td>\n",
       "</tr>\n",
       "<tr>\n",
       "  <th>Method:</th>             <td>Least Squares</td>  <th>  F-statistic:       </th> <td>   537.9</td>\n",
       "</tr>\n",
       "<tr>\n",
       "  <th>Date:</th>             <td>Mon, 10 Feb 2020</td> <th>  Prob (F-statistic):</th> <td>6.97e-91</td>\n",
       "</tr>\n",
       "<tr>\n",
       "  <th>Time:</th>                 <td>17:08:34</td>     <th>  Log-Likelihood:    </th> <td> -2650.6</td>\n",
       "</tr>\n",
       "<tr>\n",
       "  <th>No. Observations:</th>      <td>   781</td>      <th>  AIC:               </th> <td>   5305.</td>\n",
       "</tr>\n",
       "<tr>\n",
       "  <th>Df Residuals:</th>          <td>   779</td>      <th>  BIC:               </th> <td>   5315.</td>\n",
       "</tr>\n",
       "<tr>\n",
       "  <th>Df Model:</th>              <td>     1</td>      <th>                     </th>     <td> </td>   \n",
       "</tr>\n",
       "<tr>\n",
       "  <th>Covariance Type:</th>      <td>nonrobust</td>    <th>                     </th>     <td> </td>   \n",
       "</tr>\n",
       "</table>\n",
       "<table class=\"simpletable\">\n",
       "<tr>\n",
       "    <td></td>       <th>coef</th>     <th>std err</th>      <th>t</th>      <th>P>|t|</th>  <th>[0.025</th>    <th>0.975]</th>  \n",
       "</tr>\n",
       "<tr>\n",
       "  <th>const</th> <td>   -8.9312</td> <td>    2.850</td> <td>   -3.134</td> <td> 0.002</td> <td>  -14.526</td> <td>   -3.337</td>\n",
       "</tr>\n",
       "<tr>\n",
       "  <th>^GSPC</th> <td>    0.0242</td> <td>    0.001</td> <td>   23.192</td> <td> 0.000</td> <td>    0.022</td> <td>    0.026</td>\n",
       "</tr>\n",
       "</table>\n",
       "<table class=\"simpletable\">\n",
       "<tr>\n",
       "  <th>Omnibus:</th>       <td>595.977</td> <th>  Durbin-Watson:     </th> <td>   0.014</td>\n",
       "</tr>\n",
       "<tr>\n",
       "  <th>Prob(Omnibus):</th> <td> 0.000</td>  <th>  Jarque-Bera (JB):  </th> <td>  69.743</td>\n",
       "</tr>\n",
       "<tr>\n",
       "  <th>Skew:</th>          <td> 0.415</td>  <th>  Prob(JB):          </th> <td>7.17e-16</td>\n",
       "</tr>\n",
       "<tr>\n",
       "  <th>Kurtosis:</th>      <td> 1.794</td>  <th>  Cond. No.          </th> <td>3.02e+04</td>\n",
       "</tr>\n",
       "</table><br/><br/>Warnings:<br/>[1] Standard Errors assume that the covariance matrix of the errors is correctly specified.<br/>[2] The condition number is large, 3.02e+04. This might indicate that there are<br/>strong multicollinearity or other numerical problems."
      ],
      "text/plain": [
       "<class 'statsmodels.iolib.summary.Summary'>\n",
       "\"\"\"\n",
       "                            OLS Regression Results                            \n",
       "==============================================================================\n",
       "Dep. Variable:                    COP   R-squared:                       0.408\n",
       "Model:                            OLS   Adj. R-squared:                  0.408\n",
       "Method:                 Least Squares   F-statistic:                     537.9\n",
       "Date:                Mon, 10 Feb 2020   Prob (F-statistic):           6.97e-91\n",
       "Time:                        17:08:34   Log-Likelihood:                -2650.6\n",
       "No. Observations:                 781   AIC:                             5305.\n",
       "Df Residuals:                     779   BIC:                             5315.\n",
       "Df Model:                           1                                         \n",
       "Covariance Type:            nonrobust                                         \n",
       "==============================================================================\n",
       "                 coef    std err          t      P>|t|      [0.025      0.975]\n",
       "------------------------------------------------------------------------------\n",
       "const         -8.9312      2.850     -3.134      0.002     -14.526      -3.337\n",
       "^GSPC          0.0242      0.001     23.192      0.000       0.022       0.026\n",
       "==============================================================================\n",
       "Omnibus:                      595.977   Durbin-Watson:                   0.014\n",
       "Prob(Omnibus):                  0.000   Jarque-Bera (JB):               69.743\n",
       "Skew:                           0.415   Prob(JB):                     7.17e-16\n",
       "Kurtosis:                       1.794   Cond. No.                     3.02e+04\n",
       "==============================================================================\n",
       "\n",
       "Warnings:\n",
       "[1] Standard Errors assume that the covariance matrix of the errors is correctly specified.\n",
       "[2] The condition number is large, 3.02e+04. This might indicate that there are\n",
       "strong multicollinearity or other numerical problems.\n",
       "\"\"\""
      ]
     },
     "execution_count": 5,
     "metadata": {},
     "output_type": "execute_result"
    }
   ],
   "source": [
    "x = sm.add_constant(x1)\n",
    "# The Ordinary Least Squares \n",
    "results = sm.OLS(y,x).fit()\n",
    "results.summary()"
   ]
  },
  {
   "cell_type": "markdown",
   "metadata": {},
   "source": [
    "/Users/pavitragajanana/opt/anaconda3/lib/python3.7/site-packages/numpy/core/fromnumeric.py:2495: FutureWarning: Method .ptp is deprecated and will be removed in a future version. Use numpy.ptp instead.\n",
    "  return ptp(axis=axis, out=out, **kwargs)"
   ]
  },
  {
   "cell_type": "code",
   "execution_count": 6,
   "metadata": {},
   "outputs": [
    {
     "data": {
      "text/plain": [
       "Text(0, 0.5, 'S&P')"
      ]
     },
     "execution_count": 6,
     "metadata": {},
     "output_type": "execute_result"
    },
    {
     "data": {
      "image/png": "[encoded data removed]",
      "text/plain": [
       "<Figure size 432x288 with 1 Axes>"
      ]
     },
     "metadata": {
      "needs_background": "light"
     },
     "output_type": "display_data"
    }
   ],
   "source": [
    "plt.scatter(x1,y)\n",
    "yhat = 0.0244*x1 - 9.4256\n",
    "fig = plt.plot(x1,yhat,lw=4,c=\"orange\",label=\"regression line\")\n",
    "plt.xlabel('ConocoPhilips',fontsize=18)\n",
    "plt.ylabel('S&P',fontsize=18)"
   ]
  },
  {
   "cell_type": "markdown",
   "metadata": {},
   "source": [
    "> ##### Multiple Linear Regression\n",
    "    \n",
    "    \n",
    "     For a population, \n",
    "    \n",
    "$$\\gamma = \\beta_0 + \\beta_1 x_1 + \\beta_2 x_2 + ... +  \\beta_k x_k +\\epsilon$$\n",
    "\n",
    "$\\space\\space\\space\\space\\space\\space\\space\\space\\space where\\space \\epsilon \\space is \\space the\\space error\\space and \\space\\beta_0 \\space is\\space a\\space constant$\n",
    "    \n",
    "    For a sample, \n",
    "    \n",
    "$$\\hat{y} = b_0 + b_1 x_1 + b_2 x_2 + ... + b_k x_k $$\n",
    "\n",
    "$\\space\\space\\space\\space\\space\\space\\space\\space\\space where\\space \\hat{y} \\space is\\space the\\space Estimated/Predicted\\space value\\space and\\space b_0 \\space is\\space a\\space constant$"
   ]
  },
  {
   "cell_type": "code",
   "execution_count": null,
   "metadata": {},
   "outputs": [],
   "source": []
  },
  {
   "cell_type": "markdown",
   "metadata": {},
   "source": [
    "\n",
    "    (3) Building , Interpreting and Comparing different models\n",
    "\n",
    "    Remember :\n",
    "    \n",
    "    1. Correlation vs Regression\n",
    "       Correlation does not imply causation. It measures degree   of relationship between 2 variables. It is symmetrical and is represented by a single point.\n",
    "      \n",
    "      On the other hand, regression measures how the changes in  one variable affects the other. It implies causation and is  represented by a best fitting line.\n",
    "       \n",
    "     2. Minimum SSE \n",
    "     Although adding more variables to your model would explain for the variability but it would also drive up the total variability \n",
    "     \n",
    "     3. R-Squared\n",
    "     4. Adjusted R-Squared\n",
    "     \n",
    "    \n",
    "    Remember\n",
    "    \n",
    "    Goodness of Fit : R2\n",
    "    "
   ]
  },
  {
   "cell_type": "code",
   "execution_count": null,
   "metadata": {},
   "outputs": [],
   "source": []
  }
 ],
 "metadata": {
  "kernelspec": {
   "display_name": "Python 3",
   "language": "python",
   "name": "python3"
  },
  "language_info": {
   "codemirror_mode": {
    "name": "ipython",
    "version": 3
   },
   "file_extension": ".py",
   "mimetype": "text/x-python",
   "name": "python",
   "nbconvert_exporter": "python",
   "pygments_lexer": "ipython3",
   "version": "3.7.6"
  }
 },
 "nbformat": 4,
 "nbformat_minor": 2
}
